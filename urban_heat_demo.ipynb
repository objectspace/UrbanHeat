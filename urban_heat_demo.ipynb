{
 "cells": [
  {
   "cell_type": "markdown",
   "metadata": {},
   "source": [
    "# Urban Heat\n",
    "\n",
    "This notebook replicates the process described here: http://urbanspatialanalysis.com/urban-heat-islands-street-trees-in-philadelphia/ but using Python tools rather than ESRI.\n"
   ]
  },
  {
   "cell_type": "code",
   "execution_count": null,
   "metadata": {},
   "outputs": [],
   "source": [
    "import intake\n",
    "import numpy as np\n",
    "import pandas as pd\n",
    "import xarray as xr\n",
    "\n",
    "import geopandas as gpd\n",
    "import cartopy.crs as ccrs\n",
    "from geoviews.tile_sources import EsriImagery\n",
    "\n",
    "import holoviews as hv\n",
    "import hvplot.xarray\n",
    "import hvplot.pandas\n",
    "\n",
    "hv.extension('bokeh')"
   ]
  },
  {
   "cell_type": "code",
   "execution_count": null,
   "metadata": {},
   "outputs": [],
   "source": [
    "band_info = pd.DataFrame([\n",
    "        (1,  \"Aerosol\", \" 0.43 - 0.45\",    0.440,  \"30\",         \"Coastal aerosol\"),\n",
    "        (2,  \"Blue\",    \" 0.45 - 0.51\",    0.480,  \"30\",         \"Blue\"),\n",
    "        (3,  \"Green\",   \" 0.53 - 0.59\",    0.560,  \"30\",         \"Green\"),\n",
    "        (4,  \"Red\",     \" 0.64 - 0.67\",    0.655,  \"30\",         \"Red\"),\n",
    "        (5,  \"NIR\",     \" 0.85 - 0.88\",    0.865,  \"30\",         \"Near Infrared (NIR)\"),\n",
    "        (6,  \"SWIR1\",   \" 1.57 - 1.65\",    1.610,  \"30\",         \"Shortwave Infrared (SWIR) 1\"),\n",
    "        (7,  \"SWIR2\",   \" 2.11 - 2.29\",    2.200,  \"30\",         \"Shortwave Infrared (SWIR) 2\"),\n",
    "        (8,  \"Panc\",    \" 0.50 - 0.68\",    0.590,  \"15\",         \"Panchromatic\"),\n",
    "        (9,  \"Cirrus\",  \" 1.36 - 1.38\",    1.370,  \"30\",         \"Cirrus\"),\n",
    "        (10, \"TIRS1\",   \"10.60 - 11.19\",   10.895, \"100 * (30)\", \"Thermal Infrared (TIRS) 1\"),\n",
    "        (11, \"TIRS2\",   \"11.50 - 12.51\",   12.005, \"100 * (30)\", \"Thermal Infrared (TIRS) 2\")],\n",
    "    columns=['Band', 'Name', 'Wavelength Range (µm)', 'Nominal Wavelength (µm)', 'Resolution (m)', 'Description']).set_index([\"Band\"])\n",
    "band_info"
   ]
  },
  {
   "cell_type": "markdown",
   "metadata": {},
   "source": [
    "## Loading data"
   ]
  },
  {
   "cell_type": "code",
   "execution_count": null,
   "metadata": {},
   "outputs": [],
   "source": [
    "cat = intake.open_catalog('catalog.yml')"
   ]
  },
  {
   "cell_type": "code",
   "execution_count": null,
   "metadata": {},
   "outputs": [],
   "source": [
    "path = 14\n",
    "row = 32\n",
    "product_id = 'LC08_L1TP_014032_20160727_20170222_01_T1'"
   ]
  },
  {
   "cell_type": "code",
   "execution_count": null,
   "metadata": {},
   "outputs": [],
   "source": [
    "data_source = cat.google_landsat_band(path=path, row=row, product_id=product_id)\n",
    "data_source"
   ]
  },
  {
   "cell_type": "markdown",
   "metadata": {},
   "source": [
    "### Create a Dask Client"
   ]
  },
  {
   "cell_type": "code",
   "execution_count": null,
   "metadata": {},
   "outputs": [],
   "source": [
    "from dask.distributed import Client\n",
    "client = Client()\n",
    "client"
   ]
  },
  {
   "cell_type": "code",
   "execution_count": null,
   "metadata": {},
   "outputs": [],
   "source": [
    "ds = data_source.to_dask()\n",
    "ds"
   ]
  },
  {
   "cell_type": "markdown",
   "metadata": {},
   "source": [
    "## Sub-setting to area of interest"
   ]
  },
  {
   "cell_type": "code",
   "execution_count": null,
   "metadata": {},
   "outputs": [],
   "source": [
    "ds.crs"
   ]
  },
  {
   "cell_type": "markdown",
   "metadata": {},
   "source": [
    "Convert into a cartopy projection object:"
   ]
  },
  {
   "cell_type": "code",
   "execution_count": null,
   "metadata": {},
   "outputs": [],
   "source": [
    "crs = ccrs.epsg(32618)"
   ]
  },
  {
   "cell_type": "markdown",
   "metadata": {},
   "source": [
    "In order to determine what constitutes Philadelphia, we need some geometry to specify the bounds of the city. We can get a GeoJSON of neighborhood data from [OpenDataPhilly](https://www.opendataphilly.org/dataset/philadelphia-neighborhoods/resource/6c61f240-aafe-478e-b993-b75fd09a93d6)."
   ]
  },
  {
   "cell_type": "code",
   "execution_count": null,
   "metadata": {},
   "outputs": [],
   "source": [
    "url = 'https://github.com/azavea/geo-data/raw/master/Neighborhoods_Philadelphia/Neighborhoods_Philadelphia.geojson'\n",
    "geoms = gpd.read_file(url)\n",
    "geoms.head()"
   ]
  },
  {
   "cell_type": "code",
   "execution_count": null,
   "metadata": {},
   "outputs": [],
   "source": [
    "bounds = geoms.geometry.bounds\n",
    "bounds.describe()"
   ]
  },
  {
   "cell_type": "code",
   "execution_count": null,
   "metadata": {},
   "outputs": [],
   "source": [
    "lower_left_corner_lat_lon = bounds.minx.min(), bounds.miny.min()\n",
    "upper_right_corner_lat_lon = bounds.maxx.max(), bounds.maxy.max()\n",
    "\n",
    "print(lower_left_corner_lat_lon, upper_right_corner_lat_lon)"
   ]
  },
  {
   "cell_type": "markdown",
   "metadata": {},
   "source": [
    "Using the `crs` defined above, we can transform these lat lons into map coordinates. "
   ]
  },
  {
   "cell_type": "code",
   "execution_count": null,
   "metadata": {},
   "outputs": [],
   "source": [
    "ll_corner = crs.transform_point(*lower_left_corner_lat_lon, ccrs.PlateCarree())\n",
    "ur_corner = crs.transform_point(*upper_right_corner_lat_lon, ccrs.PlateCarree())\n",
    "\n",
    "print(ll_corner, ur_corner)"
   ]
  },
  {
   "cell_type": "markdown",
   "metadata": {},
   "source": [
    "Then we can use those corners to slice the data. If the subset is empty along x or y, the ordering of the coordinates might not be what you anticipated. Try swapping the order of arguments in the slice. "
   ]
  },
  {
   "cell_type": "code",
   "execution_count": null,
   "metadata": {},
   "outputs": [],
   "source": [
    "subset = ds.sel(x=slice(ll_corner[0], ur_corner[0]), y=slice(ur_corner[1], ll_corner[1]))"
   ]
  },
  {
   "cell_type": "markdown",
   "metadata": {},
   "source": [
    "We can persist this slice of the dataset in memory for easy use later."
   ]
  },
  {
   "cell_type": "code",
   "execution_count": null,
   "metadata": {},
   "outputs": [],
   "source": [
    "subset = subset.persist()\n",
    "subset"
   ]
  },
  {
   "cell_type": "code",
   "execution_count": null,
   "metadata": {},
   "outputs": [],
   "source": [
    "band_plot = subset.sel(band=4).hvplot(datashade=True, crs=crs, cmap='gray', height=500, width=500)\n",
    "hood_plot = geoms.hvplot(geo=True, alpha=.5, c='mapname')\n",
    "\n",
    "band_plot * hood_plot"
   ]
  },
  {
   "cell_type": "markdown",
   "metadata": {},
   "source": [
    "## Calculate NDVI\n",
    "\n",
    "We'll set up the calculation for NDVI but we won't yet do any computations - our bands are actually dask arrays, which allow for lazy computation."
   ]
  },
  {
   "cell_type": "code",
   "execution_count": null,
   "metadata": {},
   "outputs": [],
   "source": [
    "NDVI = (subset.sel(band=5) - subset.sel(band=4)) / (subset.sel(band=5) + subset.sel(band=4))\n",
    "NDVI = NDVI.where(NDVI < np.inf)\n",
    "NDVI"
   ]
  },
  {
   "cell_type": "markdown",
   "metadata": {},
   "source": [
    "In order to visualize NDVI, the data will need to be loaded and the NDVI computed. We can expect this to take some non-trivial amount of time."
   ]
  },
  {
   "cell_type": "code",
   "execution_count": null,
   "metadata": {},
   "outputs": [],
   "source": [
    "NDVI.hvplot(x='x', y='y', crs=crs, datashade=True, cmap='viridis', height=500, width=500).opts(tools=[])"
   ]
  },
  {
   "cell_type": "markdown",
   "metadata": {},
   "source": [
    "## Calculate land surface temperature\n",
    "\n",
    "Given the NDVI calculated above, we can determine land surface temperature. For ease, we'll use some *top of atmosphere* calculations that have already been written up as Python functions as part of rasterio work in the `rio_toa` module. We'll also need to specify one more for transforming at satellite temperature (brightness temp) to land surface temperature. For these calculations we'll use both Thermal Infrared bands - 10 and 11."
   ]
  },
  {
   "cell_type": "code",
   "execution_count": null,
   "metadata": {},
   "outputs": [],
   "source": [
    "from rio_toa import brightness_temp, toa_utils"
   ]
  },
  {
   "cell_type": "code",
   "execution_count": null,
   "metadata": {},
   "outputs": [],
   "source": [
    "def land_surface_temp(BT, w, NDVI):\n",
    "    h = 6.626e-34\n",
    "    c = 2.998e8\n",
    "    s = 1.38e-23\n",
    "    \n",
    "    p = (h * c / s) * 1e6\n",
    "    \n",
    "    Pv = (NDVI - NDVI.min() / NDVI.max() - NDVI.min())**2\n",
    "    e = 0.004 * Pv + 0.986\n",
    "    \n",
    "    return BT / 1 + w * (BT / p) * np.log(e)"
   ]
  },
  {
   "cell_type": "markdown",
   "metadata": {},
   "source": [
    "Now we'll set up a helper function to retrieve all the parameters from the metadata and general Landsat info table, and calculated the land surface temperature for band 10 and 11."
   ]
  },
  {
   "cell_type": "code",
   "execution_count": null,
   "metadata": {},
   "outputs": [],
   "source": [
    "def land_surface_temp_for_band(band, data, units='F'):\n",
    "    # params from general Landsat info\n",
    "    w = band_info.loc[band]['Nominal Wavelength (µm)']\n",
    "    \n",
    "    # params from specific Landsat data text file for these images\n",
    "    ML = metadata[f'RADIANCE_MULT_BAND_{band}']\n",
    "    AL = metadata[f'RADIANCE_ADD_BAND_{band}']\n",
    "    K1 = metadata[f'K1_CONSTANT_BAND_{band}']\n",
    "    K2 = metadata[f'K2_CONSTANT_BAND_{band}']\n",
    "    \n",
    "    at_satellite_temp = brightness_temp.brightness_temp(data.sel(band=band).values, ML, AL, K1, K2)\n",
    "    \n",
    "    temp = land_surface_temp(at_satellite_temp, w, NDVI).compute()\n",
    "    return toa_utils.temp_rescale(temp, units)"
   ]
  },
  {
   "cell_type": "markdown",
   "metadata": {},
   "source": [
    "### Loading Metadata\n",
    "\n",
    "Every Landsat product has an associated metadata file containing parameters for these particular Landsat images. We'll write a helper function to get these parameters from the matlab.txt file."
   ]
  },
  {
   "cell_type": "code",
   "execution_count": null,
   "metadata": {},
   "outputs": [],
   "source": [
    "def load_google_landsat_metadata(path, row, product_id):\n",
    "    \"\"\"Load Landsat metadata for path, row, product_id from Google Cloud Storage\n",
    "    \"\"\"\n",
    "    def parse_type(x):\n",
    "        try: \n",
    "            return eval(x)\n",
    "        except:\n",
    "            return x\n",
    "    \n",
    "    baseurl = 'https://storage.googleapis.com/gcp-public-data-landsat/LC08/01'\n",
    "    suffix = f'{path:03d}/{row:03d}/{product_id}/{product_id}_MTL.txt'\n",
    "    \n",
    "    df = intake.open_csv(\n",
    "        urlpath=f'{baseurl}/{suffix}',\n",
    "        csv_kwargs={'sep': '=',\n",
    "                    'header': None,\n",
    "                    'names': ['index', 'value'],\n",
    "                    'skiprows': 2,\n",
    "                    'converters': {'index': (lambda x: x.strip()),\n",
    "                                   'value': parse_type}}).read()\n",
    "    metadata = df.set_index('index')['value']\n",
    "    return metadata"
   ]
  },
  {
   "cell_type": "code",
   "execution_count": null,
   "metadata": {},
   "outputs": [],
   "source": [
    "metadata = load_google_landsat_metadata(path, row, product_id)\n",
    "metadata.head()"
   ]
  },
  {
   "cell_type": "markdown",
   "metadata": {},
   "source": [
    "Might be easier to read from the json as in the [dask geotiff example](https://examples.dask.org/applications/satellite-imagery-geotiff.html)."
   ]
  },
  {
   "cell_type": "markdown",
   "metadata": {},
   "source": [
    "We can use the functions to compute the land surface temperature for band 10 and band 11 - we'll combine these into on xarray object for later use."
   ]
  },
  {
   "cell_type": "code",
   "execution_count": null,
   "metadata": {},
   "outputs": [],
   "source": [
    "temp_10_f = land_surface_temp_for_band(10, subset)\n",
    "temp_11_f = land_surface_temp_for_band(11, subset)\n",
    "\n",
    "temp_f = xr.concat([temp_10_f, temp_11_f], \n",
    "                   dim=xr.DataArray([10,11], name='band', dims=['band']))\n",
    "temp_f"
   ]
  },
  {
   "cell_type": "markdown",
   "metadata": {},
   "source": [
    "Compare the results from the two different bands. Band 10 gets a higher temp over all, but the patterns of where the high temps occur seem similar. "
   ]
  },
  {
   "cell_type": "code",
   "execution_count": null,
   "metadata": {},
   "outputs": [],
   "source": [
    "temp_f.hvplot(x='x', y='y', groupby='band', cmap='fire_r', \n",
    "              crs=crs, rasterize=True, height=450, width=400, \n",
    "              colorbar=False).layout()"
   ]
  },
  {
   "cell_type": "markdown",
   "metadata": {},
   "source": [
    "We'll take the mean of the calculated land surface temperature for each of the bands and mimic the colormap used in the project that we are duplicating."
   ]
  },
  {
   "cell_type": "code",
   "execution_count": null,
   "metadata": {},
   "outputs": [],
   "source": [
    "mean_temp_f = temp_f.mean(dim='band')\n",
    "\n",
    "p = mean_temp_f.hvplot(x='x', y='y', title='Mean Surface Temp (F)', crs=crs, \n",
    "                       height=500, width=550, cmap='rainbow', alpha=.5, legend=False)\n",
    "p * EsriImagery"
   ]
  },
  {
   "cell_type": "markdown",
   "metadata": {},
   "source": [
    "Notice how the hot spots are located over warehouse roofs and parking lots. This becomes even more visible when just the temperatures greater than 90F are displayed. To show this, we'll make a special colormap that just includes high intensity reds that are found at the top of the `fire_r` colormap."
   ]
  },
  {
   "cell_type": "code",
   "execution_count": null,
   "metadata": {},
   "outputs": [],
   "source": [
    "import colorcet as cc\n",
    "\n",
    "special_cmap = cc.fire[::-1][90:]"
   ]
  },
  {
   "cell_type": "code",
   "execution_count": null,
   "metadata": {},
   "outputs": [],
   "source": [
    "thresholded_temp_p = (mean_temp_f.where(mean_temp_f > 90)\n",
    "    .hvplot(x='x', y='y', title='Mean Temp (F) > 90',\n",
    "            cmap=special_cmap, crs=crs, height=500, width=450, \n",
    "            colorbar=False, legend=False)\n",
    "    .redim(value='Temperature (F)'))\n",
    "\n",
    "thresholded_temp_p + thresholded_temp_p.options(alpha=.3) * EsriImagery"
   ]
  }
 ],
 "metadata": {
  "kernelspec": {
   "display_name": "Python 3",
   "language": "python",
   "name": "python3"
  },
  "language_info": {
   "codemirror_mode": {
    "name": "ipython",
    "version": 3
   },
   "file_extension": ".py",
   "mimetype": "text/x-python",
   "name": "python",
   "nbconvert_exporter": "python",
   "pygments_lexer": "ipython3",
   "version": "3.7.3"
  }
 },
 "nbformat": 4,
 "nbformat_minor": 2
}
